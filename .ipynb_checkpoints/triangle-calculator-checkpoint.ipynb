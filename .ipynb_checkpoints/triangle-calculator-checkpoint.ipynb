{
 "cells": [
  {
   "cell_type": "code",
   "execution_count": 33,
   "metadata": {},
   "outputs": [
    {
     "name": "stdout",
     "output_type": "stream",
     "text": [
      "\n",
      "-------------------------------------\n",
      "step 1 \n",
      "\n",
      "+2 , +4  (Fx: x,-y)  +2 , -4\n",
      "+2 , +8  (Fx: x,-y)  +2 , -8\n",
      "+4 , +6  (Fx: x,-y)  +4 , -6\n",
      "\n",
      "-------------------------------------\n",
      "step 2 \n",
      "\n",
      "+2 , -4  (Fy: -x,y)  -2 , -4\n",
      "+2 , -8  (Fy: -x,y)  -2 , -8\n",
      "+4 , -6  (Fy: -x,y)  -4 , -6\n",
      "\n",
      "-------------------------------------\n",
      "step 3 \n",
      "\n",
      "-2 , -4  (Fxy:-y,x)  +4 , -2\n",
      "-2 , -8  (Fxy:-y,x)  +8 , -2\n",
      "-4 , -6  (Fxy:-y,x)  +6 , -4\n",
      "\n",
      "-------------------------------------\n",
      "step 4 \n",
      "\n",
      "+4 , -2  (Fx: x,-y)  +4 , +2\n",
      "+8 , -2  (Fx: x,-y)  +8 , +2\n",
      "+6 , -4  (Fx: x,-y)  +6 , +4\n",
      "\n",
      "-------------------------------------\n",
      "step 5 \n",
      "\n",
      "+4 , +2  (Fy: -x,y)  -4 , +2\n",
      "+8 , +2  (Fy: -x,y)  -8 , +2\n",
      "+6 , +4  (Fy: -x,y)  -6 , +4\n"
     ]
    },
    {
     "data": {
      "image/png": "[encoded data removed]",
      "text/plain": [
       "<matplotlib.figure.Figure at 0x7f93fc58f3c8>"
      ]
     },
     "metadata": {},
     "output_type": "display_data"
    }
   ],
   "source": [
    "%matplotlib inline\n",
    "import matplotlib.pyplot as plt\n",
    "\n",
    "colors = ['red','blue','green','black','orange','purple']\n",
    "color_n = -1\n",
    "step = 1\n",
    "\n",
    "def next_color():\n",
    "    global color_n\n",
    "    color_n += 1\n",
    "    color_n %= len(colors)\n",
    "    return colors[color_n]\n",
    "\n",
    "def draw(triangle):\n",
    "    shape = plt.Polygon(triangle, fill=None, edgecolor=next_color())\n",
    "    plt.gca().add_patch(shape)\n",
    "\n",
    "def print_table(old_triangle, new_triangle, description):\n",
    "    global step\n",
    "    print('\\n-------------------------------------')\n",
    "    print('step',step,'\\n')\n",
    "    step += 1\n",
    "    for xy_o, xy_n in zip(old_triangle, new_triangle):\n",
    "        print(format(xy_o), description, format(xy_n))\n",
    "\n",
    "def format(xy):\n",
    "    return '{:+2d}'.format(xy[0]) + ' , ' + '{:+2d}'.format(xy[1])\n",
    "     \n",
    "def Fxy(triangle):\n",
    "    new_triangle = []\n",
    "    for x, y in triangle:\n",
    "        new_triangle.append([-y, x]) \n",
    "    draw(new_triangle)\n",
    "    print_table(triangle, new_triangle, ' (Fxy:-y,x) ')\n",
    "    return new_triangle\n",
    "\n",
    "def Fx(triangle):\n",
    "    new_triangle = []\n",
    "    for x, y in triangle:\n",
    "        new_triangle.append([x, -y]) \n",
    "    draw(new_triangle)\n",
    "    print_table(triangle, new_triangle, ' (Fx: x,-y) ')\n",
    "    return new_triangle\n",
    "\n",
    "def Fy(triangle):\n",
    "    new_triangle = []\n",
    "    for x, y in triangle:\n",
    "        new_triangle.append([-x, y])\n",
    "    draw(new_triangle)\n",
    "    print_table(triangle, new_triangle, ' (Fy: -x,y) ')\n",
    "    return new_triangle\n",
    "\n",
    "points = [[2, 4], [2, 8], [4, 6]]\n",
    "draw(points)\n",
    "\n",
    "Fy(Fx(Fxy(Fy(Fx(points)))))\n",
    "\n",
    "plt.axis('scaled')\n",
    "plt.show()"
   ]
  },
  {
   "cell_type": "code",
   "execution_count": null,
   "metadata": {},
   "outputs": [],
   "source": []
  }
 ],
 "metadata": {
  "kernelspec": {
   "display_name": "Python 3",
   "language": "python",
   "name": "python3"
  },
  "language_info": {
   "codemirror_mode": {
    "name": "ipython",
    "version": 3
   },
   "file_extension": ".py",
   "mimetype": "text/x-python",
   "name": "python",
   "nbconvert_exporter": "python",
   "pygments_lexer": "ipython3",
   "version": "3.6.4"
  }
 },
 "nbformat": 4,
 "nbformat_minor": 2
}
